{
  "cells": [
    {
      "cell_type": "code",
      "execution_count": 1,
      "metadata": {
        "colab": {
          "base_uri": "https://localhost:8080/"
        },
        "id": "d9ro5CGd9L0H",
        "outputId": "7b5d07c4-a936-41e3-c6ec-c85f22270bfc"
      },
      "outputs": [
        {
          "name": "stdout",
          "output_type": "stream",
          "text": [
            "Looking in indexes: https://pypi.org/simple, https://us-python.pkg.dev/colab-wheels/public/simple/\n",
            "Collecting pypandoc\n",
            "  Downloading pypandoc-1.10-py3-none-any.whl (20 kB)\n",
            "Installing collected packages: pypandoc\n",
            "Successfully installed pypandoc-1.10\n"
          ]
        }
      ],
      "source": [
        "pip install pypandoc"
      ]
    },
    {
      "cell_type": "code",
      "execution_count": 2,
      "metadata": {
        "colab": {
          "base_uri": "https://localhost:8080/"
        },
        "id": "DMycMNXP9d1f",
        "outputId": "1061fb08-b283-461d-dd30-30f02bc24c04"
      },
      "outputs": [
        {
          "name": "stdout",
          "output_type": "stream",
          "text": [
            "Looking in indexes: https://pypi.org/simple, https://us-python.pkg.dev/colab-wheels/public/simple/\n",
            "Collecting pyspark\n",
            "  Downloading pyspark-3.3.1.tar.gz (281.4 MB)\n",
            "\u001b[K     |████████████████████████████████| 281.4 MB 38 kB/s \n",
            "\u001b[?25hCollecting py4j==0.10.9.5\n",
            "  Downloading py4j-0.10.9.5-py2.py3-none-any.whl (199 kB)\n",
            "\u001b[K     |████████████████████████████████| 199 kB 54.7 MB/s \n",
            "\u001b[?25hBuilding wheels for collected packages: pyspark\n",
            "  Building wheel for pyspark (setup.py) ... \u001b[?25l\u001b[?25hdone\n",
            "  Created wheel for pyspark: filename=pyspark-3.3.1-py2.py3-none-any.whl size=281845512 sha256=0d2f74934b4330bb5b1bd94a38236f7b445108b393101156616dec8527c0f600\n",
            "  Stored in directory: /root/.cache/pip/wheels/43/dc/11/ec201cd671da62fa9c5cc77078235e40722170ceba231d7598\n",
            "Successfully built pyspark\n",
            "Installing collected packages: py4j, pyspark\n",
            "Successfully installed py4j-0.10.9.5 pyspark-3.3.1\n"
          ]
        }
      ],
      "source": [
        "pip install pyspark"
      ]
    },
    {
      "cell_type": "code",
      "execution_count": 3,
      "metadata": {
        "colab": {
          "base_uri": "https://localhost:8080/"
        },
        "id": "-8eFW_wl1n39",
        "outputId": "1aae3bdb-241a-4811-ad21-c02ca2b59ae9"
      },
      "outputs": [
        {
          "name": "stdout",
          "output_type": "stream",
          "text": [
            "\r0% [Working]\r            \rGet:1 https://cloud.r-project.org/bin/linux/ubuntu bionic-cran40/ InRelease [3,626 B]\n",
            "\r0% [Connecting to archive.ubuntu.com] [Connecting to security.ubuntu.com (185.1\r0% [Connecting to archive.ubuntu.com] [Connecting to security.ubuntu.com (185.1\r0% [1 InRelease gpgv 3,626 B] [Connecting to archive.ubuntu.com (91.189.91.39)]\r                                                                               \rIgn:2 https://developer.download.nvidia.com/compute/machine-learning/repos/ubuntu1804/x86_64  InRelease\n",
            "Hit:3 http://archive.ubuntu.com/ubuntu bionic InRelease\n",
            "Hit:4 https://developer.download.nvidia.com/compute/cuda/repos/ubuntu1804/x86_64  InRelease\n",
            "Hit:5 https://developer.download.nvidia.com/compute/machine-learning/repos/ubuntu1804/x86_64  Release\n",
            "Get:6 http://archive.ubuntu.com/ubuntu bionic-updates InRelease [88.7 kB]\n",
            "Get:7 http://security.ubuntu.com/ubuntu bionic-security InRelease [88.7 kB]\n",
            "Get:8 http://ppa.launchpad.net/c2d4u.team/c2d4u4.0+/ubuntu bionic InRelease [15.9 kB]\n",
            "Get:9 http://archive.ubuntu.com/ubuntu bionic-backports InRelease [83.3 kB]\n",
            "Hit:10 http://ppa.launchpad.net/cran/libgit2/ubuntu bionic InRelease\n",
            "Hit:11 http://ppa.launchpad.net/deadsnakes/ppa/ubuntu bionic InRelease\n",
            "Hit:12 http://ppa.launchpad.net/graphics-drivers/ppa/ubuntu bionic InRelease\n",
            "Get:14 http://ppa.launchpad.net/c2d4u.team/c2d4u4.0+/ubuntu bionic/main Sources [2,237 kB]\n",
            "Get:15 http://ppa.launchpad.net/c2d4u.team/c2d4u4.0+/ubuntu bionic/main amd64 Packages [1,144 kB]\n",
            "Fetched 3,662 kB in 3s (1,067 kB/s)\n",
            "Reading package lists... Done\n"
          ]
        }
      ],
      "source": [
        "# Activate Spark in our Colab notebook.\n",
        "import os\n",
        "# Find the latest version of spark from http://www.apache.org/dist/spark/ \n",
        "spark_version = 'spark-3.3.1'\n",
        "os.environ['SPARK_VERSION']=spark_version\n",
        "\n",
        "# Install Spark and Java\n",
        "!apt-get update\n",
        "!apt-get install openjdk-11-jdk-headless -qq > /dev/null\n",
        "!wget -q http://www.apache.org/dist/spark/$SPARK_VERSION/$SPARK_VERSION-bin-hadoop3.tgz\n",
        "!tar xf $SPARK_VERSION-bin-hadoop3.tgz\n",
        "!pip install -q findspark\n",
        "\n",
        "# Set Environment Variables\n",
        "import os\n",
        "os.environ[\"JAVA_HOME\"] = \"/usr/lib/jvm/java-11-openjdk-amd64\"\n",
        "os.environ[\"SPARK_HOME\"] = f\"/content/{spark_version}-bin-hadoop3\"\n",
        "\n",
        "# Start a SparkSession\n",
        "import findspark\n",
        "findspark.init()"
      ]
    },
    {
      "cell_type": "code",
      "execution_count": 4,
      "metadata": {
        "colab": {
          "base_uri": "https://localhost:8080/"
        },
        "id": "BzCrgs0Z1rnw",
        "outputId": "2cf3dc1b-dba3-430e-8621-b9cfab6be3ee"
      },
      "outputs": [
        {
          "name": "stdout",
          "output_type": "stream",
          "text": [
            "--2023-01-02 06:53:59--  https://jdbc.postgresql.org/download/postgresql-42.2.9.jar\n",
            "Resolving jdbc.postgresql.org (jdbc.postgresql.org)... 72.32.157.228, 2001:4800:3e1:1::228\n",
            "Connecting to jdbc.postgresql.org (jdbc.postgresql.org)|72.32.157.228|:443... connected.\n",
            "HTTP request sent, awaiting response... 200 OK\n",
            "Length: 914037 (893K) [application/java-archive]\n",
            "Saving to: ‘postgresql-42.2.9.jar’\n",
            "\n",
            "postgresql-42.2.9.j 100%[===================>] 892.61K  --.-KB/s    in 0.08s   \n",
            "\n",
            "2023-01-02 06:53:59 (10.4 MB/s) - ‘postgresql-42.2.9.jar’ saved [914037/914037]\n",
            "\n"
          ]
        }
      ],
      "source": [
        "# Get postgresql package\n",
        "!wget https://jdbc.postgresql.org/download/postgresql-42.2.9.jar"
      ]
    },
    {
      "cell_type": "code",
      "execution_count": 6,
      "metadata": {
        "id": "0DuBth0V2PR8"
      },
      "outputs": [],
      "source": [
        "# Import Spark and create a SparkSession\n",
        "from pyspark.sql import SparkSession\n",
        "spark = SparkSession.builder.appName(\"BigData-reviews_us_Grocery\").config(\"spark.driver.extraClassPath\",\"/content/postgresql-42.2.9.jar\").getOrCreate()"
      ]
    },
    {
      "cell_type": "markdown",
      "metadata": {
        "id": "D3W2XJVi2CU-"
      },
      "source": [
        "# Extract the Amazon Data into Spark DataFrame"
      ]
    },
    {
      "cell_type": "code",
      "execution_count": 7,
      "metadata": {
        "colab": {
          "base_uri": "https://localhost:8080/"
        },
        "id": "Na_stw7b1wfU",
        "outputId": "e3bd25f5-8e4a-43a8-9d59-fd5d5d6fb99f"
      },
      "outputs": [
        {
          "name": "stdout",
          "output_type": "stream",
          "text": [
            "+-----------+-----------+--------------+----------+--------------+--------------------+----------------+-----------+-------------+-----------+----+-----------------+--------------------+--------------------+-------------------+\n",
            "|marketplace|customer_id|     review_id|product_id|product_parent|       product_title|product_category|star_rating|helpful_votes|total_votes|vine|verified_purchase|     review_headline|         review_body|        review_date|\n",
            "+-----------+-----------+--------------+----------+--------------+--------------------+----------------+-----------+-------------+-----------+----+-----------------+--------------------+--------------------+-------------------+\n",
            "|         US|   42521656|R26MV8D0KG6QI6|B000SAQCWC|     159713740|The Cravings Plac...|         Grocery|          5|            0|          0|   N|                Y|Using these for y...|As a family aller...|2015-08-31 00:00:00|\n",
            "|         US|   12049833|R1OF8GP57AQ1A0|B00509LVIQ|     138680402|Mauna Loa Macadam...|         Grocery|          5|            0|          0|   N|                Y|           Wonderful|My favorite nut. ...|2015-08-31 00:00:00|\n",
            "|         US|     107642|R3VDC1QB6MC4ZZ|B00KHXESLC|     252021703|Organic Matcha Gr...|         Grocery|          5|            0|          0|   N|                N|          Five Stars|This green tea ta...|2015-08-31 00:00:00|\n",
            "|         US|    6042304|R12FA3DCF8F9ER|B000F8JIIC|     752728342|15oz Raspberry Ly...|         Grocery|          5|            0|          0|   N|                Y|          Five Stars|I love Melissa's ...|2015-08-31 00:00:00|\n",
            "|         US|   18123821| RTWHVNV6X4CNJ|B004ZWR9RQ|     552138758|Stride Spark Kine...|         Grocery|          5|            0|          0|   N|                Y|          Five Stars|                good|2015-08-31 00:00:00|\n",
            "|         US|   23649464| RIG9AWFOGRDVO|B00AL6QBZ6|     681475449|Herr's Popcorn Ho...|         Grocery|          2|            1|          1|   N|                Y|           Not Happy|The popcorn was s...|2015-08-31 00:00:00|\n",
            "|         US|   32778285|R1S1XSG4ZCHDGS|B00BCNSTRA|     578681693|Larabar uber, 1.4...|         Grocery|          5|            1|          1|   N|                Y|          Five Stars|Love these bars, ...|2015-08-31 00:00:00|\n",
            "|         US|   46612941| RB15NBVY5ELVW|B0089MM2BG|     350968436|Shirakiku Soba No...|         Grocery|          5|            2|          2|   N|                Y|          Five Stars|Love the taste bu...|2015-08-31 00:00:00|\n",
            "|         US|   31525399| R56358YM1ZJ7I|B00Y1C9770|     729982780|Jif Chocolate Nut...|         Grocery|          5|            0|          0|   N|                N|      Great tasting!|I'm a member of t...|2015-08-31 00:00:00|\n",
            "|         US|   19624355|R1ODXB3C9UP3NL|B00J074W94|       2499702|Orgain Organic Pl...|         Grocery|          1|            1|          3|   N|                N|Disgusting now an...|Used to be a dece...|2015-08-31 00:00:00|\n",
            "|         US|   31910375|R155ZMVLD5C9BP|B0001VKKOO|     189938205|Bragg - All Natur...|         Grocery|          4|            3|          4|   N|                Y|If you like soy s...|I cannot tell the...|2015-08-31 00:00:00|\n",
            "|         US|   12816533|R2IXW43PUNYM0G|B007TGH4CK|     398128262|Wholesome Sweeten...|         Grocery|          4|            1|          1|   N|                Y|          Four Stars|Good flavor and s...|2015-08-31 00:00:00|\n",
            "|         US|   23208852|R3LYEG1QCK2BG0|B002HMN6SC|      18057786|Kadoya Pure Sesam...|         Grocery|          5|            0|          0|   N|                Y|          Five Stars|Great to use in r...|2015-08-31 00:00:00|\n",
            "|         US|   17348415|R20LREICPM3YH0|B004NRHAZO|     595020880|Nishiki Premium B...|         Grocery|          5|            0|          0|   N|                Y|          Five Stars|It's rice. Have e...|2015-08-31 00:00:00|\n",
            "|         US|   46763945| RHA5COCZDVB13|B00V7LJIG8|     173088090|Everly Passion Fr...|         Grocery|          5|            0|          0|   N|                Y|          Five Stars|Very good tasting...|2015-08-31 00:00:00|\n",
            "|         US|     961747| RT9BGRQANMANE|B0000E2YFI|     120269621|Charms Blue Razzb...|         Grocery|          5|            0|          0|   N|                Y|           Excellent|They were perfect...|2015-08-31 00:00:00|\n",
            "|         US|   16888081| ROD1TU5JCS7JQ|B00VK5SQOQ|     204992966|Food Should Taste...|         Grocery|          5|            0|          0|   N|                N|              YUMMY!|Wow, these are so...|2015-08-31 00:00:00|\n",
            "|         US|   22765168|R3T6TTD2IN0EFZ|B00XDXMLL2|     971154239|Skippy Creamy Pea...|         Grocery|          1|            4|          4|   N|                N|1 Out Of 5 Of My ...|I bought this fro...|2015-08-31 00:00:00|\n",
            "|         US|   36328996|R1OCUGZ444NKV3|B00MN4KX3A|     787182505|Celestial Seasoni...|         Grocery|          5|            5|          5|   N|                Y|delicious tea and...|I love this tea, ...|2015-08-31 00:00:00|\n",
            "|         US|   27092724| RCQQGWTC4J4TZ|B004NTCE1M|     653570135|Nutiva Organic Vi...|         Grocery|          4|            0|          0|   N|                Y|    Best coconut oil|I have used servo...|2015-08-31 00:00:00|\n",
            "+-----------+-----------+--------------+----------+--------------+--------------------+----------------+-----------+-------------+-----------+----+-----------------+--------------------+--------------------+-------------------+\n",
            "only showing top 20 rows\n",
            "\n"
          ]
        }
      ],
      "source": [
        "# Read in the data from an S3 Bucket\n",
        "from pyspark import SparkFiles\n",
        "url= \"https://s3.amazonaws.com/amazon-reviews-pds/tsv/amazon_reviews_us_Grocery_v1_00.tsv.gz\" \n",
        "spark.sparkContext.addFile(url)\n",
        "grocery_data_df = spark.read.csv(SparkFiles.get(\"amazon_reviews_us_Grocery_v1_00.tsv.gz\"), sep=\"\\t\", header=True, inferSchema=True)\n",
        "\n",
        "# Show DataFrame\n",
        "grocery_data_df.show()"
      ]
    },
    {
      "cell_type": "code",
      "execution_count": 8,
      "metadata": {
        "colab": {
          "base_uri": "https://localhost:8080/"
        },
        "id": "Cayz-3Q52IM3",
        "outputId": "416bc30f-f290-4683-84e9-6e2c6bf4a72e"
      },
      "outputs": [
        {
          "data": {
            "text/plain": [
              "2402458"
            ]
          },
          "execution_count": 8,
          "metadata": {},
          "output_type": "execute_result"
        }
      ],
      "source": [
        "# Get the number of rows in the DataFrame.\n",
        "grocery_data_df.count()"
      ]
    },
    {
      "cell_type": "markdown",
      "metadata": {
        "id": "C9U0rkGZ2eu7"
      },
      "source": [
        "# Transform the Data"
      ]
    },
    {
      "cell_type": "markdown",
      "metadata": {
        "id": "dUoftWoKtM_c"
      },
      "source": [
        "## Create the \"review_id_table\"."
      ]
    },
    {
      "cell_type": "code",
      "execution_count": 9,
      "metadata": {
        "colab": {
          "base_uri": "https://localhost:8080/"
        },
        "id": "2tMYkSIk2d-m",
        "outputId": "c4292163-d708-4cb1-cf87-1a7e073914ef"
      },
      "outputs": [
        {
          "name": "stdout",
          "output_type": "stream",
          "text": [
            "+--------------+-----------+----------+--------------+-------------------+\n",
            "|     review_id|customer_id|product_id|product_parent|        review_date|\n",
            "+--------------+-----------+----------+--------------+-------------------+\n",
            "|R26MV8D0KG6QI6|   42521656|B000SAQCWC|     159713740|2015-08-31 00:00:00|\n",
            "|R1OF8GP57AQ1A0|   12049833|B00509LVIQ|     138680402|2015-08-31 00:00:00|\n",
            "|R3VDC1QB6MC4ZZ|     107642|B00KHXESLC|     252021703|2015-08-31 00:00:00|\n",
            "|R12FA3DCF8F9ER|    6042304|B000F8JIIC|     752728342|2015-08-31 00:00:00|\n",
            "| RTWHVNV6X4CNJ|   18123821|B004ZWR9RQ|     552138758|2015-08-31 00:00:00|\n",
            "| RIG9AWFOGRDVO|   23649464|B00AL6QBZ6|     681475449|2015-08-31 00:00:00|\n",
            "|R1S1XSG4ZCHDGS|   32778285|B00BCNSTRA|     578681693|2015-08-31 00:00:00|\n",
            "| RB15NBVY5ELVW|   46612941|B0089MM2BG|     350968436|2015-08-31 00:00:00|\n",
            "| R56358YM1ZJ7I|   31525399|B00Y1C9770|     729982780|2015-08-31 00:00:00|\n",
            "|R1ODXB3C9UP3NL|   19624355|B00J074W94|       2499702|2015-08-31 00:00:00|\n",
            "|R155ZMVLD5C9BP|   31910375|B0001VKKOO|     189938205|2015-08-31 00:00:00|\n",
            "|R2IXW43PUNYM0G|   12816533|B007TGH4CK|     398128262|2015-08-31 00:00:00|\n",
            "|R3LYEG1QCK2BG0|   23208852|B002HMN6SC|      18057786|2015-08-31 00:00:00|\n",
            "|R20LREICPM3YH0|   17348415|B004NRHAZO|     595020880|2015-08-31 00:00:00|\n",
            "| RHA5COCZDVB13|   46763945|B00V7LJIG8|     173088090|2015-08-31 00:00:00|\n",
            "| RT9BGRQANMANE|     961747|B0000E2YFI|     120269621|2015-08-31 00:00:00|\n",
            "| ROD1TU5JCS7JQ|   16888081|B00VK5SQOQ|     204992966|2015-08-31 00:00:00|\n",
            "|R3T6TTD2IN0EFZ|   22765168|B00XDXMLL2|     971154239|2015-08-31 00:00:00|\n",
            "|R1OCUGZ444NKV3|   36328996|B00MN4KX3A|     787182505|2015-08-31 00:00:00|\n",
            "| RCQQGWTC4J4TZ|   27092724|B004NTCE1M|     653570135|2015-08-31 00:00:00|\n",
            "+--------------+-----------+----------+--------------+-------------------+\n",
            "only showing top 20 rows\n",
            "\n"
          ]
        }
      ],
      "source": [
        "from pyspark.sql.functions import to_date\n",
        "grocery_review_id_df = grocery_data_df.select([\"review_id\", \"customer_id\", \"product_id\", \"product_parent\", \"review_date\"])\n",
        "grocery_review_id_df.show()"
      ]
    },
    {
      "cell_type": "markdown",
      "metadata": {
        "id": "aAVCFjXhtXO8"
      },
      "source": [
        "## Create the \"products\" Table"
      ]
    },
    {
      "cell_type": "code",
      "execution_count": 10,
      "metadata": {
        "id": "g9gTNhT62je4"
      },
      "outputs": [],
      "source": [
        "grocery_products_df = grocery_data_df.dropDuplicates(subset= [\"product_id\",\"product_title\"] )"
      ]
    },
    {
      "cell_type": "code",
      "execution_count": 11,
      "metadata": {
        "colab": {
          "base_uri": "https://localhost:8080/"
        },
        "id": "1P8ohme0-bT-",
        "outputId": "9b304858-82a4-4b16-fbf9-edd040502209"
      },
      "outputs": [
        {
          "data": {
            "text/plain": [
              "305538"
            ]
          },
          "execution_count": 11,
          "metadata": {},
          "output_type": "execute_result"
        }
      ],
      "source": [
        "grocery_products_df.count()"
      ]
    },
    {
      "cell_type": "code",
      "execution_count": 12,
      "metadata": {
        "colab": {
          "base_uri": "https://localhost:8080/"
        },
        "id": "6nDbjMirA4-d",
        "outputId": "f500c491-9427-49ae-b601-bb71a0f46f98"
      },
      "outputs": [
        {
          "name": "stdout",
          "output_type": "stream",
          "text": [
            "+-----------+-----------+--------------+----------+--------------+--------------------+----------------+-----------+-------------+-----------+----+-----------------+--------------------+--------------------+-------------------+\n",
            "|marketplace|customer_id|     review_id|product_id|product_parent|       product_title|product_category|star_rating|helpful_votes|total_votes|vine|verified_purchase|     review_headline|         review_body|        review_date|\n",
            "+-----------+-----------+--------------+----------+--------------+--------------------+----------------+-----------+-------------+-----------+----+-----------------+--------------------+--------------------+-------------------+\n",
            "|         US|   11425554|R263F2Q3CR0JJG|0805470867|     518591127|Communion Bread P...|         Grocery|          5|            0|          2|   N|                Y|             WORSHIP|The communion bre...|2013-05-18 00:00:00|\n",
            "|         US|   25785649| R17QYNM2M4AES|0950000019|     896968165|     Royal Manna Mix|         Grocery|          5|            0|          0|   N|                Y|nutritious  and s...|I first purchased...|2011-09-04 00:00:00|\n",
            "|         US|   12618325|R2YJFGLO4XLCKO|1453060375|     299090854|Mio Energy Liquid...|         Grocery|          1|            5|         11|   N|                Y|Oops.  Made a mis...|Don't buy this it...|2013-03-03 00:00:00|\n",
            "|         US|   50794278|R1DK9ZE911BYA8|1453060464|      54526222|Splash Energy Liq...|         Grocery|          3|            0|          0|   N|                N|Tastes a Bit  lik...|My wife picked so...|2013-07-17 00:00:00|\n",
            "|         US|   50996224|R2QSILXJU3WXN7|1603112251|     284800537|Cocktail Kingdom ...|         Grocery|          5|            2|          2|   N|                N|          Best yet!!|I am a bitters af...|2015-08-14 00:00:00|\n",
            "|         US|   26168492|R1S52RYHVLPGHA|1837993955|     928080382|Milky Way Magic S...|         Grocery|          5|            0|          0|   N|                Y|       He loved them|Bought these for ...|2014-07-16 00:00:00|\n",
            "|         US|   17705556| RE9UVTO1CLLIX|189746035X|     715418807|  Razorback Two Pack|         Grocery|          5|            0|          0|   N|                Y|   Cool Miniature...|  Amazing quality!!!|2015-02-16 00:00:00|\n",
            "|         US|   19537749|R1W5JGIYQ70T20|2123457892|     540249334|1 Month Suply (4 ...|         Grocery|          3|            2|          3|   N|                Y|The directions ar...|The directions ar...|2015-04-23 00:00:00|\n",
            "|         US|   52849180|R1Q1FH69F6H3RC|2533790060|     997891440|Ferrero Big Roche...|         Grocery|          5|            0|          0|   N|                Y|My very favorite ...|Outstanding choco...|2014-12-20 00:00:00|\n",
            "|         US|   32951314|R2N87Q7CPNW593|2584695235|     290375018|Kurkure Masala Mu...|         Grocery|          1|            0|          1|   N|                Y|            One Star|Took over a month...|2015-06-18 00:00:00|\n",
            "|         US|     155964|R1GS18GOBTHWI0|2635214875|     376964111|Iaso Nutra Burst ...|         Grocery|          4|            1|          3|   N|                Y|  Energy in a bottle| The taste is energy|2015-08-17 00:00:00|\n",
            "|         US|   33652687|R1SY4D60QFK9HM|3301261876|     187436684|Haribo Jelly Babi...|         Grocery|          4|            1|          1|   N|                Y|             Smaller|The Jellies thems...|2014-07-18 00:00:00|\n",
            "|         US|   17775320|R2LTDK04Z7MRC4|3334353648|     685903693|Fresh Ginger Root...|         Grocery|          5|            1|          1|   N|                Y|THE MOST BEAUTIFU...|My package arrive...|2015-08-28 00:00:00|\n",
            "|         US|   23985173|R2CSGO2OHPO1EE|359595954X|     484025277|Haldiram's Classi...|         Grocery|          1|            4|          5|   N|                Y|    its not rasmalai|   It's not rasmalai|2015-01-31 00:00:00|\n",
            "|         US|   41976867|R3D0R0PJJM0MUT|3621813330|      63619694|Starburst Sour Ch...|         Grocery|          3|            0|          0|   N|                Y|Good, but too sma...|It was the correc...|2014-04-24 00:00:00|\n",
            "|         US|   31397743|R1IJNYSHJ6OCW5|3960361378|     337494572|Celebrations Tub ...|         Grocery|          5|            0|          0|   N|                Y|          Five Stars|I love the chocol...|2015-07-16 00:00:00|\n",
            "|         US|    5179831|R1C3Z7H7NX92TW|4562135158|     415790078|Recao (500 Seeds)...|         Grocery|          1|            0|          0|   N|                Y|            All duds|I am very dissapo...|2015-06-04 00:00:00|\n",
            "|         US|   27639319| R1YTZK9QPG7EX|4639725043|     989593181|Lipton Yellow Lab...|         Grocery|          5|            0|          0|   N|                Y|Good Stuff for th...|My second favorit...|2015-08-25 00:00:00|\n",
            "|         US|   49701145|R1CGPK4D2FM9FQ|4639725418|      43864956|Indian Spice Nutm...|         Grocery|          5|            0|          0|   N|                Y|This is item that...|This is item that...|2015-08-31 00:00:00|\n",
            "|         US|   34098950| RDH39BOXEV8QE|496731841X|     505384166|Haldirams Bhel Pu...|         Grocery|          2|            0|          0|   N|                Y|             Average|Wierd smelling ch...|2015-02-04 00:00:00|\n",
            "+-----------+-----------+--------------+----------+--------------+--------------------+----------------+-----------+-------------+-----------+----+-----------------+--------------------+--------------------+-------------------+\n",
            "only showing top 20 rows\n",
            "\n"
          ]
        }
      ],
      "source": [
        "grocery_products_df.show()"
      ]
    },
    {
      "cell_type": "markdown",
      "metadata": {
        "id": "LJHuZ9zut0e5"
      },
      "source": [
        "## Create the \"customers\" Table"
      ]
    },
    {
      "cell_type": "code",
      "execution_count": 13,
      "metadata": {
        "colab": {
          "base_uri": "https://localhost:8080/"
        },
        "id": "_pF2Vf3c2n2O",
        "outputId": "de374d53-c7f1-43e6-ce17-3c28167a1621"
      },
      "outputs": [
        {
          "name": "stdout",
          "output_type": "stream",
          "text": [
            "+-----------+---------------------+\n",
            "|customer_id|customer_review_count|\n",
            "+-----------+---------------------+\n",
            "|   21294263|                    1|\n",
            "|    8619125|                    1|\n",
            "|   43626894|                    1|\n",
            "|   38209321|                    4|\n",
            "|   40568205|                    1|\n",
            "|   13480593|                    1|\n",
            "|   19505799|                    1|\n",
            "|   43150161|                    2|\n",
            "|   28802315|                    2|\n",
            "|   35329257|                    1|\n",
            "|   49101505|                    1|\n",
            "|    1117644|                    1|\n",
            "|   28377689|                    1|\n",
            "|   23493243|                    1|\n",
            "|   48670265|                    1|\n",
            "|   49041516|                    3|\n",
            "|   37499049|                    2|\n",
            "|   10920752|                    1|\n",
            "|    5627998|                    1|\n",
            "|     135423|                    1|\n",
            "+-----------+---------------------+\n",
            "only showing top 20 rows\n",
            "\n"
          ]
        }
      ],
      "source": [
        "# Create the \"customers_df\" DataFrame that groups the data on the \"customer_id\" by the number of times a customer reviewed a product. \n",
        "grocery_customer_df = grocery_data_df.groupBy('customer_id').agg({\"customer_id\": \"count\"})\n",
        "grocery_customer_df = grocery_customer_df.withColumnRenamed(\"count(customer_id)\", \"customer_review_count\")\n",
        "grocery_customer_df.show()"
      ]
    },
    {
      "cell_type": "code",
      "execution_count": 14,
      "metadata": {
        "colab": {
          "base_uri": "https://localhost:8080/"
        },
        "id": "UPPvjdq_C3r1",
        "outputId": "a8bf37cc-378f-4125-880e-65d7514ccbf2"
      },
      "outputs": [
        {
          "data": {
            "text/plain": [
              "1363986"
            ]
          },
          "execution_count": 14,
          "metadata": {},
          "output_type": "execute_result"
        }
      ],
      "source": [
        "grocery_customer_df.count()"
      ]
    },
    {
      "cell_type": "markdown",
      "metadata": {
        "id": "8SbTasxbuXGK"
      },
      "source": [
        "## Create the \"vine_table\"."
      ]
    },
    {
      "cell_type": "code",
      "execution_count": 15,
      "metadata": {
        "colab": {
          "base_uri": "https://localhost:8080/"
        },
        "id": "WHQKbmCE2p3Q",
        "outputId": "1c59075b-37f1-4cd0-b451-464cf0a78ba1"
      },
      "outputs": [
        {
          "name": "stdout",
          "output_type": "stream",
          "text": [
            "+--------------+-----------+-------------+-----------+----+\n",
            "|     review_id|star_rating|helpful_votes|total_votes|vine|\n",
            "+--------------+-----------+-------------+-----------+----+\n",
            "|R26MV8D0KG6QI6|          5|            0|          0|   N|\n",
            "|R1OF8GP57AQ1A0|          5|            0|          0|   N|\n",
            "|R3VDC1QB6MC4ZZ|          5|            0|          0|   N|\n",
            "|R12FA3DCF8F9ER|          5|            0|          0|   N|\n",
            "| RTWHVNV6X4CNJ|          5|            0|          0|   N|\n",
            "| RIG9AWFOGRDVO|          2|            1|          1|   N|\n",
            "|R1S1XSG4ZCHDGS|          5|            1|          1|   N|\n",
            "| RB15NBVY5ELVW|          5|            2|          2|   N|\n",
            "| R56358YM1ZJ7I|          5|            0|          0|   N|\n",
            "|R1ODXB3C9UP3NL|          1|            1|          3|   N|\n",
            "|R155ZMVLD5C9BP|          4|            3|          4|   N|\n",
            "|R2IXW43PUNYM0G|          4|            1|          1|   N|\n",
            "|R3LYEG1QCK2BG0|          5|            0|          0|   N|\n",
            "|R20LREICPM3YH0|          5|            0|          0|   N|\n",
            "| RHA5COCZDVB13|          5|            0|          0|   N|\n",
            "| RT9BGRQANMANE|          5|            0|          0|   N|\n",
            "| ROD1TU5JCS7JQ|          5|            0|          0|   N|\n",
            "|R3T6TTD2IN0EFZ|          1|            4|          4|   N|\n",
            "|R1OCUGZ444NKV3|          5|            5|          5|   N|\n",
            "| RCQQGWTC4J4TZ|          4|            0|          0|   N|\n",
            "+--------------+-----------+-------------+-----------+----+\n",
            "only showing top 20 rows\n",
            "\n"
          ]
        }
      ],
      "source": [
        "# Create the \"vine_df\" DataFrame that has the \"review_id\", \"star_rating\", \"helpful_votes\", \"total_votes\", and \"vine\" columns. \n",
        "from pyspark.sql.functions import to_date\n",
        "grocery_vine_df = grocery_data_df.select([\"review_id\", \"star_rating\", \"helpful_votes\", \"total_votes\", \"vine\"])\n",
        "grocery_vine_df.show()"
      ]
    },
    {
      "cell_type": "markdown",
      "metadata": {
        "id": "I8aTsEjZ2s6L"
      },
      "source": [
        "# Load"
      ]
    },
    {
      "cell_type": "code",
      "execution_count": 16,
      "metadata": {
        "id": "W4dzUKfI2vXM"
      },
      "outputs": [],
      "source": [
        "mode = \"append\"\n",
        "jdbc_url=\"jdbc:postgresql://database-3.c2psmop0qavn.ap-southeast-2.rds.amazonaws.com:5432/groceries_db\" \n",
        "config = {\"user\":\"\", \"password\": \"\", \"driver\":\"org.postgresql.Driver\"}"
      ]
    },
    {
      "cell_type": "code",
      "execution_count": 17,
      "metadata": {
        "id": "iOxKqMsD2yVs"
      },
      "outputs": [],
      "source": [
        "# Write review_id_df to table in RDS\n",
        "grocery_review_id_df.write.jdbc(url=jdbc_url, table='grocery_review_id', mode=mode, properties=config)"
      ]
    },
    {
      "cell_type": "code",
      "execution_count": 18,
      "metadata": {
        "id": "pPXyGVE-2yPJ"
      },
      "outputs": [],
      "source": [
        "# Write products_df to table in RDS\n",
        "grocery_products_df.write.jdbc(url=jdbc_url, table='grocery_product', mode=mode, properties=config)"
      ]
    },
    {
      "cell_type": "code",
      "execution_count": 19,
      "metadata": {
        "id": "aHbca4zN2yIa"
      },
      "outputs": [],
      "source": [
        "# Write customers_df to table in RDS\n",
        "grocery_customer_df.write.jdbc(url=jdbc_url, table='grocery_customers', mode=mode, properties=config)"
      ]
    },
    {
      "cell_type": "code",
      "execution_count": 20,
      "metadata": {
        "id": "2HfOFneW2x_F"
      },
      "outputs": [],
      "source": [
        "# Write vine_df to table in RDS\n",
        "grocery_vine_df.write.jdbc(url=jdbc_url, table='grocery_vine', mode=mode, properties=config)"
      ]
    }
  ],
  "metadata": {
    "colab": {
      "provenance": []
    },
    "kernelspec": {
      "display_name": "Python 3",
      "language": "python",
      "name": "python3"
    },
    "language_info": {
      "codemirror_mode": {
        "name": "ipython",
        "version": 3
      },
      "file_extension": ".py",
      "mimetype": "text/x-python",
      "name": "python",
      "nbconvert_exporter": "python",
      "pygments_lexer": "ipython3",
      "version": "3.8.8"
    }
  },
  "nbformat": 4,
  "nbformat_minor": 0
}
