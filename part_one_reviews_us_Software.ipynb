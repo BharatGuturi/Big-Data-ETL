{
  "cells": [
    {
      "cell_type": "code",
      "execution_count": 1,
      "metadata": {
        "colab": {
          "base_uri": "https://localhost:8080/"
        },
        "id": "d9ro5CGd9L0H",
        "outputId": "d71d684c-cb44-4483-b843-3011a4d426f5"
      },
      "outputs": [
        {
          "name": "stdout",
          "output_type": "stream",
          "text": [
            "Looking in indexes: https://pypi.org/simple, https://us-python.pkg.dev/colab-wheels/public/simple/\n",
            "Collecting pypandoc\n",
            "  Downloading pypandoc-1.10-py3-none-any.whl (20 kB)\n",
            "Installing collected packages: pypandoc\n",
            "Successfully installed pypandoc-1.10\n"
          ]
        }
      ],
      "source": [
        "pip install pypandoc"
      ]
    },
    {
      "cell_type": "code",
      "execution_count": 2,
      "metadata": {
        "colab": {
          "base_uri": "https://localhost:8080/"
        },
        "id": "DMycMNXP9d1f",
        "outputId": "c05765f1-0b69-41b6-9442-25717f4df9cd"
      },
      "outputs": [
        {
          "name": "stdout",
          "output_type": "stream",
          "text": [
            "Looking in indexes: https://pypi.org/simple, https://us-python.pkg.dev/colab-wheels/public/simple/\n",
            "Collecting pyspark\n",
            "  Downloading pyspark-3.3.1.tar.gz (281.4 MB)\n",
            "\u001b[K     |████████████████████████████████| 281.4 MB 47 kB/s \n",
            "\u001b[?25hCollecting py4j==0.10.9.5\n",
            "  Downloading py4j-0.10.9.5-py2.py3-none-any.whl (199 kB)\n",
            "\u001b[K     |████████████████████████████████| 199 kB 43.9 MB/s \n",
            "\u001b[?25hBuilding wheels for collected packages: pyspark\n",
            "  Building wheel for pyspark (setup.py) ... \u001b[?25l\u001b[?25hdone\n",
            "  Created wheel for pyspark: filename=pyspark-3.3.1-py2.py3-none-any.whl size=281845512 sha256=fc2f520cf2447b83265a28c887b38b7de4088bc811e967626a04d9fee4f8136a\n",
            "  Stored in directory: /root/.cache/pip/wheels/43/dc/11/ec201cd671da62fa9c5cc77078235e40722170ceba231d7598\n",
            "Successfully built pyspark\n",
            "Installing collected packages: py4j, pyspark\n",
            "Successfully installed py4j-0.10.9.5 pyspark-3.3.1\n"
          ]
        }
      ],
      "source": [
        "pip install pyspark"
      ]
    },
    {
      "cell_type": "code",
      "execution_count": 3,
      "metadata": {
        "colab": {
          "base_uri": "https://localhost:8080/"
        },
        "id": "-8eFW_wl1n39",
        "outputId": "a5f2ce82-cbb6-4667-b91b-87798a5fa728"
      },
      "outputs": [
        {
          "name": "stdout",
          "output_type": "stream",
          "text": [
            "\r0% [Working]\r            \rHit:1 http://archive.ubuntu.com/ubuntu bionic InRelease\n",
            "\r0% [Waiting for headers] [Connecting to security.ubuntu.com (185.125.190.36)] [\r                                                                               \rGet:2 http://archive.ubuntu.com/ubuntu bionic-updates InRelease [88.7 kB]\n",
            "\r0% [2 InRelease 14.2 kB/88.7 kB 16%] [Waiting for headers] [Waiting for headers\r0% [1 InRelease gpgv 242 kB] [2 InRelease 14.2 kB/88.7 kB 16%] [Waiting for hea\r                                                                               \rGet:3 https://cloud.r-project.org/bin/linux/ubuntu bionic-cran40/ InRelease [3,626 B]\n",
            "\r0% [1 InRelease gpgv 242 kB] [2 InRelease 15.6 kB/88.7 kB 18%] [Waiting for hea\r0% [1 InRelease gpgv 242 kB] [2 InRelease 15.6 kB/88.7 kB 18%] [Waiting for hea\r                                                                               \rGet:4 http://security.ubuntu.com/ubuntu bionic-security InRelease [88.7 kB]\n",
            "\r0% [1 InRelease gpgv 242 kB] [2 InRelease 70.7 kB/88.7 kB 80%] [4 InRelease 14.\r                                                                               \rIgn:5 https://developer.download.nvidia.com/compute/machine-learning/repos/ubuntu1804/x86_64  InRelease\n",
            "\r0% [1 InRelease gpgv 242 kB] [2 InRelease 85.1 kB/88.7 kB 96%] [4 InRelease 14.\r0% [1 InRelease gpgv 242 kB] [Waiting for headers] [4 InRelease 14.2 kB/88.7 kB\r                                                                               \rHit:6 https://developer.download.nvidia.com/compute/cuda/repos/ubuntu1804/x86_64  InRelease\n",
            "Get:7 http://ppa.launchpad.net/c2d4u.team/c2d4u4.0+/ubuntu bionic InRelease [15.9 kB]\n",
            "Hit:8 https://developer.download.nvidia.com/compute/machine-learning/repos/ubuntu1804/x86_64  Release\n",
            "Get:9 http://archive.ubuntu.com/ubuntu bionic-backports InRelease [83.3 kB]\n",
            "Hit:10 http://ppa.launchpad.net/cran/libgit2/ubuntu bionic InRelease\n",
            "Hit:11 http://ppa.launchpad.net/deadsnakes/ppa/ubuntu bionic InRelease\n",
            "Hit:12 http://ppa.launchpad.net/graphics-drivers/ppa/ubuntu bionic InRelease\n",
            "Get:14 http://ppa.launchpad.net/c2d4u.team/c2d4u4.0+/ubuntu bionic/main Sources [2,237 kB]\n",
            "Get:15 http://ppa.launchpad.net/c2d4u.team/c2d4u4.0+/ubuntu bionic/main amd64 Packages [1,144 kB]\n",
            "Fetched 3,662 kB in 3s (1,051 kB/s)\n",
            "Reading package lists... Done\n"
          ]
        }
      ],
      "source": [
        "# Activate Spark in our Colab notebook.\n",
        "import os\n",
        "# Find the latest version of spark from http://www.apache.org/dist/spark/ \n",
        "spark_version = 'spark-3.3.1'\n",
        "os.environ['SPARK_VERSION']=spark_version\n",
        "\n",
        "# Install Spark and Java\n",
        "!apt-get update\n",
        "!apt-get install openjdk-11-jdk-headless -qq > /dev/null\n",
        "!wget -q http://www.apache.org/dist/spark/$SPARK_VERSION/$SPARK_VERSION-bin-hadoop3.tgz\n",
        "!tar xf $SPARK_VERSION-bin-hadoop3.tgz\n",
        "!pip install -q findspark\n",
        "\n",
        "# Set Environment Variables\n",
        "import os\n",
        "os.environ[\"JAVA_HOME\"] = \"/usr/lib/jvm/java-11-openjdk-amd64\"\n",
        "os.environ[\"SPARK_HOME\"] = f\"/content/{spark_version}-bin-hadoop3\"\n",
        "\n",
        "# Start a SparkSession\n",
        "import findspark\n",
        "findspark.init()"
      ]
    },
    {
      "cell_type": "code",
      "execution_count": 4,
      "metadata": {
        "colab": {
          "base_uri": "https://localhost:8080/"
        },
        "id": "BzCrgs0Z1rnw",
        "outputId": "d8c07770-8065-4a1b-dbae-f49e9f96ae0b"
      },
      "outputs": [
        {
          "name": "stdout",
          "output_type": "stream",
          "text": [
            "--2023-01-02 05:30:10--  https://jdbc.postgresql.org/download/postgresql-42.2.9.jar\n",
            "Resolving jdbc.postgresql.org (jdbc.postgresql.org)... 72.32.157.228, 2001:4800:3e1:1::228\n",
            "Connecting to jdbc.postgresql.org (jdbc.postgresql.org)|72.32.157.228|:443... connected.\n",
            "HTTP request sent, awaiting response... 200 OK\n",
            "Length: 914037 (893K) [application/java-archive]\n",
            "Saving to: ‘postgresql-42.2.9.jar’\n",
            "\n",
            "postgresql-42.2.9.j 100%[===================>] 892.61K  5.73MB/s    in 0.2s    \n",
            "\n",
            "2023-01-02 05:30:10 (5.73 MB/s) - ‘postgresql-42.2.9.jar’ saved [914037/914037]\n",
            "\n"
          ]
        }
      ],
      "source": [
        "# Get postgresql package\n",
        "!wget https://jdbc.postgresql.org/download/postgresql-42.2.9.jar"
      ]
    },
    {
      "cell_type": "code",
      "execution_count": 5,
      "metadata": {
        "id": "0DuBth0V2PR8"
      },
      "outputs": [],
      "source": [
        "# Import Spark and create a SparkSession\n",
        "from pyspark.sql import SparkSession\n",
        "spark = SparkSession.builder.appName(\"BigData-reviews_us_Software\").config(\"spark.driver.extraClassPath\",\"/content/postgresql-42.2.9.jar\").getOrCreate()"
      ]
    },
    {
      "cell_type": "markdown",
      "metadata": {
        "id": "D3W2XJVi2CU-"
      },
      "source": [
        "# Extract the Amazon Data into Spark DataFrame"
      ]
    },
    {
      "cell_type": "code",
      "execution_count": 6,
      "metadata": {
        "colab": {
          "base_uri": "https://localhost:8080/"
        },
        "id": "Na_stw7b1wfU",
        "outputId": "72776af4-8701-468a-ecab-02fddf4bbf08"
      },
      "outputs": [
        {
          "name": "stdout",
          "output_type": "stream",
          "text": [
            "+-----------+-----------+--------------+----------+--------------+--------------------+----------------+-----------+-------------+-----------+----+-----------------+--------------------+--------------------+-------------------+\n",
            "|marketplace|customer_id|     review_id|product_id|product_parent|       product_title|product_category|star_rating|helpful_votes|total_votes|vine|verified_purchase|     review_headline|         review_body|        review_date|\n",
            "+-----------+-----------+--------------+----------+--------------+--------------------+----------------+-----------+-------------+-----------+----+-----------------+--------------------+--------------------+-------------------+\n",
            "|         US|   42605767|R3EFW2STIYIY0I|B00MUTIDKI|     248732228|McAfee 2015 Inter...|        Software|          1|            2|          2|   N|                Y|I was very disapp...|I was very disapp...|2015-08-31 00:00:00|\n",
            "|         US|   51771800|R12NR0R5A9F7FT|B00EPACNUG|     531462352|Hallmark Card Stu...|        Software|          5|            0|          0|   N|                Y|          Five Stars|I had a little st...|2015-08-31 00:00:00|\n",
            "|         US|   16053526|R1LSH74R9XAP59|B00164AZA4|     473982505| Search and Rescue 4|        Software|          2|            0|          1|   N|                Y|    Have windows 10?|Tried to download...|2015-08-31 00:00:00|\n",
            "|         US|   15319481|R1QXUNTF76K7L6|B00E6LIEFM|     189774198|      Quickbooks Pro|        Software|          2|            0|          0|   N|                Y|Disc was corrupt,...|Disc was corrupt,...|2015-08-31 00:00:00|\n",
            "|         US|    1441820|R2F7DR75PS8NKT|B00VWEBG06|     852470365|Windows 7 Profess...|        Software|          5|            0|          0|   N|                Y|          Five Stars|Just what I neede...|2015-08-31 00:00:00|\n",
            "|         US|   37107850|R2C1DJSCC8UFS6|B00EP7AP7C|     279360628|Family Tree Maker...|        Software|          3|            0|          0|   N|                Y|         Three Stars|Didn't like havin...|2015-08-31 00:00:00|\n",
            "|         US|     302120|R1AXGS1W4YFXMX|B00OW2PET4|     729971168|World of Farming:...|        Software|          1|            0|          2|   N|                Y|            One Star|it does not work ...|2015-08-31 00:00:00|\n",
            "|         US|   20193077|R1XU1B93402SYJ|B00N4OLCRO|     776572654|Photoshop Element...|        Software|          1|            1|          1|   N|                Y|Can't load to my ...|I have tried for ...|2015-08-31 00:00:00|\n",
            "|         US|   13106017|R2U432NB3OPVR0|B005CELN8W|     222071424|Phantom EFX WMS S...|        Software|          5|            0|          0|   N|                Y|          Five Stars|       love the game|2015-08-31 00:00:00|\n",
            "|         US|   32587108|R3R6FIMIOQ5SP9|B005CELL1G|     168801430|PaperPort Profess...|        Software|          5|            0|          0|   N|                Y|Meets our small b...|Great software. A...|2015-08-31 00:00:00|\n",
            "|         US|   32020017|R12TX6V09C9QNQ|B00H09BOXQ|     455502995|Windows 7 Profess...|        Software|          5|            0|          0|   N|                Y|          Five Stars|             Awesome|2015-08-31 00:00:00|\n",
            "|         US|   13376158|R33UCII6YKUMKV|B00MCLGAAO|     652069521| QuickBooks Pro 2015|        Software|          3|            2|          2|   N|                Y|Nothing New in Th...|To start this rev...|2015-08-31 00:00:00|\n",
            "|         US|   47098110| RZKDAB9TGO053|B00P6U8C5Y|     871602905|Block Financial H...|        Software|          1|            0|          0|   N|                Y|Missing key infor...|Some key provisio...|2015-08-31 00:00:00|\n",
            "|         US|   24083274|R2EMN2EEDN73ZA|B00MA5TPN6|     299038085|Parallels Desktop...|        Software|          4|            0|          0|   N|                Y|Probably the best...|Probably the best...|2015-08-31 00:00:00|\n",
            "|         US|   41137196| RU9LHN1NJDVOI|B000EQ868I|     534229510|Cosmi Print Perfe...|        Software|          5|            0|          0|   N|                Y|          Five Stars|I was pleased wit...|2015-08-31 00:00:00|\n",
            "|         US|   18003829|R19910SO17BQUE|B00MYXTCMI|      42668324|TurboTax Business...|        Software|          5|            0|          0|   N|                Y|... what it is su...|This program does...|2015-08-31 00:00:00|\n",
            "|         US|   14460749|R32N10BW8MH847|B008PIQXP0|     116724371|I.R.I.S. Readiris...|        Software|          4|            2|          4|   N|                Y|          Four Stars|Again it should h...|2015-08-31 00:00:00|\n",
            "|         US|   12641855| R2DNM85DH7FGK|B00KAFOXXU|     471261945|Finale PrintMusic...|        Software|          5|            0|          2|   N|                Y|          Five Stars|               great|2015-08-31 00:00:00|\n",
            "|         US|   13775565|R2G9RFFW051RWY|B00OKSOLE4|     694520847|Microsoft Office ...|        Software|          5|            0|          0|   N|                Y|          Five Stars|        Easy to use.|2015-08-31 00:00:00|\n",
            "|         US|   31044774|R26CC1STPSUHBS|B01019T6O0|     510976915|Microsoft Windows...|        Software|          1|           27|         39|   N|                N|Do NOT take the \"...|Do NOT take the &...|2015-08-31 00:00:00|\n",
            "+-----------+-----------+--------------+----------+--------------+--------------------+----------------+-----------+-------------+-----------+----+-----------------+--------------------+--------------------+-------------------+\n",
            "only showing top 20 rows\n",
            "\n"
          ]
        }
      ],
      "source": [
        "# Read in the data from an S3 Bucket\n",
        "from pyspark import SparkFiles\n",
        "url= \"https://s3.amazonaws.com/amazon-reviews-pds/tsv/amazon_reviews_us_Software_v1_00.tsv.gz\" \n",
        "spark.sparkContext.addFile(url)\n",
        "software_data_df = spark.read.csv(SparkFiles.get(\"amazon_reviews_us_Software_v1_00.tsv.gz\"), sep=\"\\t\", header=True, inferSchema=True)\n",
        "\n",
        "# Show DataFrame\n",
        "software_data_df.show()"
      ]
    },
    {
      "cell_type": "code",
      "execution_count": 7,
      "metadata": {
        "colab": {
          "base_uri": "https://localhost:8080/"
        },
        "id": "Cayz-3Q52IM3",
        "outputId": "92907c3b-05bf-4b38-cf43-e7a40e5c02b5"
      },
      "outputs": [
        {
          "data": {
            "text/plain": [
              "341931"
            ]
          },
          "execution_count": 7,
          "metadata": {},
          "output_type": "execute_result"
        }
      ],
      "source": [
        "# Get the number of rows in the DataFrame.\n",
        "software_data_df.count()"
      ]
    },
    {
      "cell_type": "markdown",
      "metadata": {
        "id": "C9U0rkGZ2eu7"
      },
      "source": [
        "# Transform the Data"
      ]
    },
    {
      "cell_type": "markdown",
      "metadata": {
        "id": "dUoftWoKtM_c"
      },
      "source": [
        "## Create the \"review_id_table\"."
      ]
    },
    {
      "cell_type": "code",
      "execution_count": 12,
      "metadata": {
        "colab": {
          "base_uri": "https://localhost:8080/"
        },
        "id": "2tMYkSIk2d-m",
        "outputId": "4b3ce133-fd5c-410b-9646-8003c445d671"
      },
      "outputs": [
        {
          "name": "stdout",
          "output_type": "stream",
          "text": [
            "+--------------+-----------+----------+--------------+-------------------+\n",
            "|     review_id|customer_id|product_id|product_parent|        review_date|\n",
            "+--------------+-----------+----------+--------------+-------------------+\n",
            "|R3EFW2STIYIY0I|   42605767|B00MUTIDKI|     248732228|2015-08-31 00:00:00|\n",
            "|R12NR0R5A9F7FT|   51771800|B00EPACNUG|     531462352|2015-08-31 00:00:00|\n",
            "|R1LSH74R9XAP59|   16053526|B00164AZA4|     473982505|2015-08-31 00:00:00|\n",
            "|R1QXUNTF76K7L6|   15319481|B00E6LIEFM|     189774198|2015-08-31 00:00:00|\n",
            "|R2F7DR75PS8NKT|    1441820|B00VWEBG06|     852470365|2015-08-31 00:00:00|\n",
            "|R2C1DJSCC8UFS6|   37107850|B00EP7AP7C|     279360628|2015-08-31 00:00:00|\n",
            "|R1AXGS1W4YFXMX|     302120|B00OW2PET4|     729971168|2015-08-31 00:00:00|\n",
            "|R1XU1B93402SYJ|   20193077|B00N4OLCRO|     776572654|2015-08-31 00:00:00|\n",
            "|R2U432NB3OPVR0|   13106017|B005CELN8W|     222071424|2015-08-31 00:00:00|\n",
            "|R3R6FIMIOQ5SP9|   32587108|B005CELL1G|     168801430|2015-08-31 00:00:00|\n",
            "|R12TX6V09C9QNQ|   32020017|B00H09BOXQ|     455502995|2015-08-31 00:00:00|\n",
            "|R33UCII6YKUMKV|   13376158|B00MCLGAAO|     652069521|2015-08-31 00:00:00|\n",
            "| RZKDAB9TGO053|   47098110|B00P6U8C5Y|     871602905|2015-08-31 00:00:00|\n",
            "|R2EMN2EEDN73ZA|   24083274|B00MA5TPN6|     299038085|2015-08-31 00:00:00|\n",
            "| RU9LHN1NJDVOI|   41137196|B000EQ868I|     534229510|2015-08-31 00:00:00|\n",
            "|R19910SO17BQUE|   18003829|B00MYXTCMI|      42668324|2015-08-31 00:00:00|\n",
            "|R32N10BW8MH847|   14460749|B008PIQXP0|     116724371|2015-08-31 00:00:00|\n",
            "| R2DNM85DH7FGK|   12641855|B00KAFOXXU|     471261945|2015-08-31 00:00:00|\n",
            "|R2G9RFFW051RWY|   13775565|B00OKSOLE4|     694520847|2015-08-31 00:00:00|\n",
            "|R26CC1STPSUHBS|   31044774|B01019T6O0|     510976915|2015-08-31 00:00:00|\n",
            "+--------------+-----------+----------+--------------+-------------------+\n",
            "only showing top 20 rows\n",
            "\n"
          ]
        }
      ],
      "source": [
        "from pyspark.sql.functions import to_date\n",
        "software_review_id_df = software_data_df.select([\"review_id\", \"customer_id\", \"product_id\", \"product_parent\", \"review_date\"])\n",
        "software_review_id_df.show()"
      ]
    },
    {
      "cell_type": "markdown",
      "metadata": {
        "id": "aAVCFjXhtXO8"
      },
      "source": [
        "## Create the \"products\" Table"
      ]
    },
    {
      "cell_type": "code",
      "execution_count": 20,
      "metadata": {
        "id": "g9gTNhT62je4"
      },
      "outputs": [],
      "source": [
        "software_products_df = software_data_df.dropDuplicates(subset= [\"product_id\",\"product_title\"] )"
      ]
    },
    {
      "cell_type": "code",
      "execution_count": 21,
      "metadata": {
        "colab": {
          "base_uri": "https://localhost:8080/"
        },
        "id": "1P8ohme0-bT-",
        "outputId": "8209cadb-64f9-48ed-f727-da2648ae845f"
      },
      "outputs": [
        {
          "data": {
            "text/plain": [
              "28736"
            ]
          },
          "execution_count": 21,
          "metadata": {},
          "output_type": "execute_result"
        }
      ],
      "source": [
        "software_products_df.count()"
      ]
    },
    {
      "cell_type": "code",
      "execution_count": 22,
      "metadata": {
        "colab": {
          "base_uri": "https://localhost:8080/"
        },
        "id": "6nDbjMirA4-d",
        "outputId": "dc783d29-e53c-483c-9627-376a1f5edf14"
      },
      "outputs": [
        {
          "name": "stdout",
          "output_type": "stream",
          "text": [
            "+-----------+-----------+--------------+----------+--------------+--------------------+----------------+-----------+-------------+-----------+----+-----------------+--------------------+--------------------+-------------------+\n",
            "|marketplace|customer_id|     review_id|product_id|product_parent|       product_title|product_category|star_rating|helpful_votes|total_votes|vine|verified_purchase|     review_headline|         review_body|        review_date|\n",
            "+-----------+-----------+--------------+----------+--------------+--------------------+----------------+-----------+-------------+-----------+----+-----------------+--------------------+--------------------+-------------------+\n",
            "|         US|   33712978|R38LNO9CFVPKQS|0030331927|     524450836|INTERMEDIATE FIN ...|        Software|          5|            3|         15|   N|                N|one of the best s...|one of the best s...|2004-03-01 00:00:00|\n",
            "|         US|   17241396|R2C1QO9AQGA4HC|007293056X|     149413153|Gregg College Key...|        Software|          2|            1|          1|   N|                Y|            Not good|Hey all this cd r...|2010-10-02 00:00:00|\n",
            "|         US|   48567668|R3R2EDUXI3TMH9|0077451058|     612446808|HDR Photomatix Pro 5|        Software|          5|            0|          0|   N|                Y|      great software|Easy to use and p...|2014-05-17 00:00:00|\n",
            "|         US|   13103270|R338VKP9C3M854|0078602718|     620194448|Interactive Chalk...|        Software|          1|            0|          0|   N|                Y|Does not work on ...|This software is ...|2013-06-25 00:00:00|\n",
            "|         US|   50987187|R3HSN0SKH9FAS3|007864285X|     671412166|The Merck Manual ...|        Software|          1|            7|          8|   N|                N|The print version...|There is little t...|1999-09-05 00:00:00|\n",
            "|         US|   52844390|R3SGBYS7NUAHMV|0130653934|     233426973|CD Lecture Series...|        Software|          3|            0|          0|   N|                Y|Good, but interne...|I found the lectu...|2014-12-28 00:00:00|\n",
            "|         US|   17715334|R2MEH2RSYC4OI8|0131358936|     545009883|Test Bank CD-ROM ...|        Software|          5|            0|          0|   N|                Y|        Great CD-ROM|This is a great t...|2013-10-22 00:00:00|\n",
            "|         US|   23997448| RXXMSVM7DD9YU|0131817035|     326173838|Teachers Express ...|        Software|          5|            0|          0|   N|                Y|This is a great p...|This is a great p...|2015-02-26 00:00:00|\n",
            "|         US|   46545855| RYTGF1TRXJ0K4|0132014882|     384356079|Texas Algebra 2: ...|        Software|          4|            1|          1|   N|                Y|        Pretty good.|Not the easiest s...|2012-01-05 00:00:00|\n",
            "|         US|   29936480|R3K2WJ8BR4B8LF|0133643557|     185549929|Prentice Hall Mat...|        Software|          4|            0|          0|   N|                Y|Kid needed it for...|So my daughter ha...|2014-01-03 00:00:00|\n",
            "|         US|   22700354|R2PU122R25L02V|013601951X|     773593037|Intermediate Algebra|        Software|          5|            0|          0|   N|                Y|if you struggle t...|this series helpe...|2015-02-02 00:00:00|\n",
            "|         US|   41252121|R20APAMOINB5W3|0170994767|     765596936|MCSE/MCSA LabSim ...|        Software|          5|            0|          0|   N|                N|      Don't buy used|LabSim training s...|2009-09-10 00:00:00|\n",
            "|         US|   11890859|R1Q5KUMALHYE97|0201656302|     994695580|AUTOCAD The Stude...|        Software|          4|            1|          1|   N|                N|Easy to use versi...|I used this versi...|2013-10-19 00:00:00|\n",
            "|         US|   52192144|R3OFJCCAD7QCRF|0310230683|     384295771|Zondervan Bible S...|        Software|          5|            1|          1|   N|                N|Pro Bible study l...|A few years back,...|2011-12-07 00:00:00|\n",
            "|         US|   49033866|R13A7Y0IT630KH|0310230691|     272773838|Zondervan Bible S...|        Software|          3|            0|          0|   N|                Y|Zondervan Bible S...|This product is o...|2012-12-30 00:00:00|\n",
            "|         US|   21787980|R1A558KI9V1U73|031024837X|     660283161|The Expositor's B...|        Software|          5|            1|          1|   N|                Y|Expositor's Bible...|One of the best c...|2012-03-11 00:00:00|\n",
            "|         US|   14478770|R3K48A56PJJWZ5|0310248396|     853374392|New International...|        Software|          1|            2|          2|   N|                Y|Package is no lon...|Please be aware t...|2011-06-27 00:00:00|\n",
            "|         US|   46952194|R3737TGH2VG1KK|0310258294|     166451523|NIV Holy Bible 5....|        Software|          2|            0|          0|   N|                N|        Disappointed|I have sent an e-...|2013-02-25 00:00:00|\n",
            "|         US|   24316194|R3US226B786I50|0321506847|     356404408|Instructor's Reso...|        Software|          5|            0|          0|   N|                Y|          Five Stars|The test bank alo...|2014-10-26 00:00:00|\n",
            "|         US|   23684476|R2XH5W0UE4CZQL|0321510607|     623716061|The Best of Adobe...|        Software|          3|            0|          0|   N|                Y|The Best of Adobe...|It is okay for a ...|2014-07-22 00:00:00|\n",
            "+-----------+-----------+--------------+----------+--------------+--------------------+----------------+-----------+-------------+-----------+----+-----------------+--------------------+--------------------+-------------------+\n",
            "only showing top 20 rows\n",
            "\n"
          ]
        }
      ],
      "source": [
        "software_products_df.show()"
      ]
    },
    {
      "cell_type": "markdown",
      "metadata": {
        "id": "LJHuZ9zut0e5"
      },
      "source": [
        "## Create the \"customers\" Table"
      ]
    },
    {
      "cell_type": "code",
      "execution_count": 25,
      "metadata": {
        "colab": {
          "base_uri": "https://localhost:8080/"
        },
        "id": "_pF2Vf3c2n2O",
        "outputId": "ad402bcc-6707-4fc0-ff61-f2791d881fb1"
      },
      "outputs": [
        {
          "name": "stdout",
          "output_type": "stream",
          "text": [
            "+-----------+---------------------+\n",
            "|customer_id|customer_review_count|\n",
            "+-----------+---------------------+\n",
            "|   15634680|                    1|\n",
            "|   44696507|                    1|\n",
            "|   19901367|                    1|\n",
            "|   11337682|                    1|\n",
            "|   52021773|                    1|\n",
            "|   29916198|                    1|\n",
            "|   42030944|                    1|\n",
            "|   52765209|                    1|\n",
            "|   13519509|                    2|\n",
            "|   39320350|                    5|\n",
            "|   23249582|                    1|\n",
            "|   46351928|                    3|\n",
            "|   44179620|                    1|\n",
            "|     637252|                    1|\n",
            "|   34038793|                    1|\n",
            "|   51136490|                    1|\n",
            "|   49354815|                    1|\n",
            "|     149761|                    2|\n",
            "|   43333798|                    1|\n",
            "|    4657027|                    1|\n",
            "+-----------+---------------------+\n",
            "only showing top 20 rows\n",
            "\n"
          ]
        }
      ],
      "source": [
        "# Create the \"customers_df\" DataFrame that groups the data on the \"customer_id\" by the number of times a customer reviewed a product. \n",
        "software_customer_df = software_data_df.groupBy('customer_id').agg({\"customer_id\": \"count\"})\n",
        "software_customer_df = software_customer_df.withColumnRenamed(\"count(customer_id)\", \"customer_review_count\")\n",
        "software_customer_df.show()"
      ]
    },
    {
      "cell_type": "code",
      "execution_count": 26,
      "metadata": {
        "colab": {
          "base_uri": "https://localhost:8080/"
        },
        "id": "UPPvjdq_C3r1",
        "outputId": "f4bd6389-4a46-4cfd-f5e1-81042708ede0"
      },
      "outputs": [
        {
          "data": {
            "text/plain": [
              "275379"
            ]
          },
          "execution_count": 26,
          "metadata": {},
          "output_type": "execute_result"
        }
      ],
      "source": [
        "software_customer_df.count()"
      ]
    },
    {
      "cell_type": "markdown",
      "metadata": {
        "id": "8SbTasxbuXGK"
      },
      "source": [
        "## Create the \"vine_table\"."
      ]
    },
    {
      "cell_type": "code",
      "execution_count": 27,
      "metadata": {
        "colab": {
          "base_uri": "https://localhost:8080/"
        },
        "id": "WHQKbmCE2p3Q",
        "outputId": "f5cc2e04-00fa-4658-ba8b-0366cffcc0cf"
      },
      "outputs": [
        {
          "name": "stdout",
          "output_type": "stream",
          "text": [
            "+--------------+-----------+-------------+-----------+----+\n",
            "|     review_id|star_rating|helpful_votes|total_votes|vine|\n",
            "+--------------+-----------+-------------+-----------+----+\n",
            "|R3EFW2STIYIY0I|          1|            2|          2|   N|\n",
            "|R12NR0R5A9F7FT|          5|            0|          0|   N|\n",
            "|R1LSH74R9XAP59|          2|            0|          1|   N|\n",
            "|R1QXUNTF76K7L6|          2|            0|          0|   N|\n",
            "|R2F7DR75PS8NKT|          5|            0|          0|   N|\n",
            "|R2C1DJSCC8UFS6|          3|            0|          0|   N|\n",
            "|R1AXGS1W4YFXMX|          1|            0|          2|   N|\n",
            "|R1XU1B93402SYJ|          1|            1|          1|   N|\n",
            "|R2U432NB3OPVR0|          5|            0|          0|   N|\n",
            "|R3R6FIMIOQ5SP9|          5|            0|          0|   N|\n",
            "|R12TX6V09C9QNQ|          5|            0|          0|   N|\n",
            "|R33UCII6YKUMKV|          3|            2|          2|   N|\n",
            "| RZKDAB9TGO053|          1|            0|          0|   N|\n",
            "|R2EMN2EEDN73ZA|          4|            0|          0|   N|\n",
            "| RU9LHN1NJDVOI|          5|            0|          0|   N|\n",
            "|R19910SO17BQUE|          5|            0|          0|   N|\n",
            "|R32N10BW8MH847|          4|            2|          4|   N|\n",
            "| R2DNM85DH7FGK|          5|            0|          2|   N|\n",
            "|R2G9RFFW051RWY|          5|            0|          0|   N|\n",
            "|R26CC1STPSUHBS|          1|           27|         39|   N|\n",
            "+--------------+-----------+-------------+-----------+----+\n",
            "only showing top 20 rows\n",
            "\n"
          ]
        }
      ],
      "source": [
        "# Create the \"vine_df\" DataFrame that has the \"review_id\", \"star_rating\", \"helpful_votes\", \"total_votes\", and \"vine\" columns. \n",
        "from pyspark.sql.functions import to_date\n",
        "software_vine_df = software_data_df.select([\"review_id\", \"star_rating\", \"helpful_votes\", \"total_votes\", \"vine\"])\n",
        "software_vine_df.show()"
      ]
    },
    {
      "cell_type": "markdown",
      "metadata": {
        "id": "I8aTsEjZ2s6L"
      },
      "source": [
        "# Load"
      ]
    },
    {
      "cell_type": "code",
      "execution_count": 30,
      "metadata": {
        "id": "W4dzUKfI2vXM"
      },
      "outputs": [],
      "source": [
        "mode = \"append\"\n",
        "jdbc_url=\"jdbc:postgresql://database-2.c2psmop0qavn.ap-southeast-2.rds.amazonaws.com:5432/my_data_class_db\"\n",
        "config = {\"user\":\"\", \"password\": \"\", \"driver\":\"org.postgresql.Driver\"}"
      ]
    },
    {
      "cell_type": "code",
      "execution_count": 31,
      "metadata": {
        "id": "iOxKqMsD2yVs"
      },
      "outputs": [],
      "source": [
        "# Write review_id_df to table in RDS\n",
        "software_review_id_df.write.jdbc(url=jdbc_url, table='software_review_id', mode=mode, properties=config)"
      ]
    },
    {
      "cell_type": "code",
      "execution_count": 33,
      "metadata": {
        "id": "pPXyGVE-2yPJ"
      },
      "outputs": [],
      "source": [
        "# Write products_df to table in RDS\n",
        "software_products_df.write.jdbc(url=jdbc_url, table='software_product', mode=mode, properties=config)"
      ]
    },
    {
      "cell_type": "code",
      "execution_count": 34,
      "metadata": {
        "id": "aHbca4zN2yIa"
      },
      "outputs": [],
      "source": [
        "# Write customers_df to table in RDS\n",
        "software_customer_df.write.jdbc(url=jdbc_url, table='software_customers', mode=mode, properties=config)"
      ]
    },
    {
      "cell_type": "code",
      "execution_count": 35,
      "metadata": {
        "id": "2HfOFneW2x_F"
      },
      "outputs": [],
      "source": [
        "# Write vine_df to table in RDS\n",
        "software_vine_df.write.jdbc(url=jdbc_url, table='software_vine', mode=mode, properties=config)"
      ]
    }
  ],
  "metadata": {
    "colab": {
      "provenance": []
    },
    "kernelspec": {
      "display_name": "Python 3",
      "language": "python",
      "name": "python3"
    },
    "language_info": {
      "codemirror_mode": {
        "name": "ipython",
        "version": 3
      },
      "file_extension": ".py",
      "mimetype": "text/x-python",
      "name": "python",
      "nbconvert_exporter": "python",
      "pygments_lexer": "ipython3",
      "version": "3.8.8"
    }
  },
  "nbformat": 4,
  "nbformat_minor": 0
}
